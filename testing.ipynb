{
 "cells": [
  {
   "cell_type": "code",
   "execution_count": 2,
   "metadata": {},
   "outputs": [
    {
     "data": {
      "text/plain": [
       "Index(['Index', 'AttainedEd', 'Race', 'TotalIncome', 'HispanicInd', 'Sex',\n",
       "       'MaritalStatus', 'State'],\n",
       "      dtype='object')"
      ]
     },
     "execution_count": 2,
     "metadata": {},
     "output_type": "execute_result"
    }
   ],
   "source": [
    "import pandas as pd\n",
    "df = pd.read_csv('mod_census_data_all.csv')\n",
    "df.columns"
   ]
  },
  {
   "cell_type": "code",
   "execution_count": 3,
   "metadata": {},
   "outputs": [
    {
     "name": "stdout",
     "output_type": "stream",
     "text": [
      "AttainedEd\n",
      "Children                                    33153\n",
      "High school graduate-high school diploma    32922\n",
      "Bachelor's degree (BA,AB,BS)                25158\n",
      "Some College But No Degree                  20661\n",
      "Master's degree (MA,MS,MENG,MED,MSW,MBA)    11073\n",
      "Assc degree-academic program                 7021\n",
      "Assc degree-occupation/vocation              5149\n",
      "11th Grade                                   4231\n",
      "10th Grade                                   3937\n",
      "9th Grade                                    3426\n",
      "7th and 8th grade                            2585\n",
      "Doctorate degree (PHD,EDD)                   2268\n",
      "12th Grade No Diploma                        2102\n",
      "Professional school degree (MD,DDS,DVM,L     1631\n",
      "5th Or 6th Grade                             1518\n",
      "1st,2nd,3rd,or 4th grade                      757\n",
      "Less Than 1st Grade                           367\n",
      "Name: count, dtype: int64\n",
      "~~~~~~~~~~~~~~~~~~~~~~~~~~~\n",
      "Race\n",
      "White Only                              122135\n",
      "Black Only                               18150\n",
      "Asian Only                               10239\n",
      "American Indian, Alaskan Native Only      2443\n",
      "White-Black                               1313\n",
      "White-AI                                  1151\n",
      "White-Asian                                906\n",
      "Hawaiian/Pacific Islander Only             725\n",
      "White-HP                                   209\n",
      "Black-AI                                   168\n",
      "Asian-HP                                   113\n",
      "W-A-HP                                     107\n",
      "W-B-AI                                      94\n",
      "Black-Asian                                 67\n",
      "W-B-A                                       55\n",
      "AI-Asian                                    15\n",
      "Black-HP                                    15\n",
      "W-AI-A                                      12\n",
      "AI-HP                                        8\n",
      "Other 4 and 5 Race Combinations              8\n",
      "W-AI-HP                                      7\n",
      "W-B-AI-A                                     7\n",
      "W-B-HP                                       6\n",
      "Other 3 Race Combinations                    4\n",
      "B-AI-A                                       2\n",
      "Name: count, dtype: int64\n",
      "~~~~~~~~~~~~~~~~~~~~~~~~~~~\n",
      "TotalIncome\n",
      "0        1317\n",
      "30000     626\n",
      "40000     559\n",
      "50000     513\n",
      "60000     511\n",
      "         ... \n",
      "21414       1\n",
      "18528       1\n",
      "85811       1\n",
      "49630       1\n",
      "15542       1\n",
      "Name: count, Length: 37388, dtype: int64\n",
      "~~~~~~~~~~~~~~~~~~~~~~~~~~~\n",
      "HispanicInd\n",
      "Non-Hispanic    128011\n",
      "Hispanic         29948\n",
      "Name: count, dtype: int64\n",
      "~~~~~~~~~~~~~~~~~~~~~~~~~~~\n",
      "Sex\n",
      "Female    81045\n",
      "Male      76914\n",
      "Name: count, dtype: int64\n",
      "~~~~~~~~~~~~~~~~~~~~~~~~~~~\n",
      "MaritalStatus\n",
      "Never married          71100\n",
      "Marr-civ sp present    63838\n",
      "Divorced               11993\n",
      "Widowed                 6822\n",
      "Separated               2082\n",
      "Marr-spouse absent      1672\n",
      "Marr-AF spo present      452\n",
      "Name: count, dtype: int64\n",
      "~~~~~~~~~~~~~~~~~~~~~~~~~~~\n",
      "State\n",
      "CA    15693\n",
      "TX     9361\n",
      "FL     7068\n",
      "NY     6353\n",
      "IL     4174\n",
      "PA     3981\n",
      "LA     3700\n",
      "OH     3573\n",
      "NC     3565\n",
      "GA     3527\n",
      "MI     3498\n",
      "MA     3362\n",
      "AL     3214\n",
      "WA     3123\n",
      "VA     3015\n",
      "UT     2877\n",
      "NM     2867\n",
      "NJ     2865\n",
      "TN     2832\n",
      "AZ     2807\n",
      "MS     2785\n",
      "ID     2752\n",
      "WV     2751\n",
      "AR     2720\n",
      "MT     2699\n",
      "IN     2652\n",
      "OR     2563\n",
      "SC     2503\n",
      "HI     2426\n",
      "OK     2418\n",
      "DC     2300\n",
      "NV     2293\n",
      "WI     2264\n",
      "ND     2239\n",
      "WY     2172\n",
      "MN     2142\n",
      "NE     2096\n",
      "AK     2084\n",
      "MO     2081\n",
      "KS     2025\n",
      "MD     1958\n",
      "NH     1942\n",
      "IA     1905\n",
      "CO     1902\n",
      "SD     1796\n",
      "VT     1783\n",
      "KY     1724\n",
      "DE     1608\n",
      "CT     1516\n",
      "RI     1290\n",
      "ME     1115\n",
      "Name: count, dtype: int64\n"
     ]
    }
   ],
   "source": [
    "attained_ed_val_counts = df['AttainedEd'].value_counts(dropna=False)\n",
    "race_val_counts = df['Race'].value_counts(dropna=False)\n",
    "income_val_counts = df['TotalIncome'].value_counts(dropna=False)\n",
    "hispanic_ind_val_counts = df['HispanicInd'].value_counts(dropna=False)\n",
    "sex_val_counts = df['Sex'].value_counts(dropna=False)\n",
    "marital_status_val_counts = df['MaritalStatus'].value_counts(dropna=False)\n",
    "state_val_counts = df['State'].value_counts(dropna=False)\n",
    "\n",
    "print(attained_ed_val_counts)\n",
    "print('~~~~~~~~~~~~~~~~~~~~~~~~~~~')\n",
    "print(race_val_counts)\n",
    "print('~~~~~~~~~~~~~~~~~~~~~~~~~~~')\n",
    "print(income_val_counts)\n",
    "print('~~~~~~~~~~~~~~~~~~~~~~~~~~~')\n",
    "print(hispanic_ind_val_counts)\n",
    "print('~~~~~~~~~~~~~~~~~~~~~~~~~~~')\n",
    "print(sex_val_counts)\n",
    "print('~~~~~~~~~~~~~~~~~~~~~~~~~~~')\n",
    "print(marital_status_val_counts)\n",
    "print('~~~~~~~~~~~~~~~~~~~~~~~~~~~')\n",
    "print(state_val_counts)"
   ]
  },
  {
   "cell_type": "code",
   "execution_count": 4,
   "metadata": {},
   "outputs": [
    {
     "name": "stdout",
     "output_type": "stream",
     "text": [
      "Here's the list of any dupes in df: False    157959\n",
      "Name: count, dtype: int64\n",
      "Here's the shape of df: (157959, 8)\n"
     ]
    }
   ],
   "source": [
    "print(\"Here's the list of any dupes in df:\",(df.duplicated()).value_counts(dropna=False))\n",
    "print(\"Here's the shape of df:\", df.shape)"
   ]
  },
  {
   "cell_type": "markdown",
   "metadata": {},
   "source": [
    "### Cool, so above we see that the total number of rows is the same, and we know there are no null values because when we counted them with value_counts(), we made it so."
   ]
  },
  {
   "cell_type": "code",
   "execution_count": 5,
   "metadata": {},
   "outputs": [
    {
     "name": "stdout",
     "output_type": "stream",
     "text": [
      "Index             int64\n",
      "AttainedEd       object\n",
      "Race             object\n",
      "TotalIncome       int64\n",
      "HispanicInd      object\n",
      "Sex              object\n",
      "MaritalStatus    object\n",
      "State            object\n",
      "dtype: object\n"
     ]
    }
   ],
   "source": [
    "print(df.dtypes)"
   ]
  },
  {
   "cell_type": "markdown",
   "metadata": {},
   "source": [
    "### Let's check the specific type of each object column. I expect they would be strings, so that's what I'll check for"
   ]
  },
  {
   "cell_type": "code",
   "execution_count": 6,
   "metadata": {},
   "outputs": [
    {
     "name": "stdout",
     "output_type": "stream",
     "text": [
      "The entire column is comprised of strings?  True\n",
      "The entire column is comprised of strings?  True\n",
      "The entire column is comprised of strings?  False\n",
      "         The entire column is comprised of int?  True\n",
      "The entire column is comprised of strings?  True\n",
      "The entire column is comprised of strings?  True\n",
      "The entire column is comprised of strings?  True\n"
     ]
    }
   ],
   "source": [
    "print(\"The entire column is comprised of strings? \",df['AttainedEd'].apply(lambda x: isinstance(x, str)).all())\n",
    "print(\"The entire column is comprised of strings? \",df['Race'].apply(lambda x: isinstance(x, str)).all())\n",
    "print(\"The entire column is comprised of strings? \",df['TotalIncome'].apply(lambda x: isinstance(x, str)).all())\n",
    "print(\"         The entire column is comprised of int? \",df['TotalIncome'].apply(lambda x: isinstance(x, int)).all())\n",
    "print(\"The entire column is comprised of strings? \",df['HispanicInd'].apply(lambda x: isinstance(x, str)).all())\n",
    "print(\"The entire column is comprised of strings? \",df['Sex'].apply(lambda x: isinstance(x, str)).all())\n",
    "print(\"The entire column is comprised of strings? \",df['MaritalStatus'].apply(lambda x: isinstance(x, str)).all())"
   ]
  },
  {
   "cell_type": "code",
   "execution_count": 12,
   "metadata": {},
   "outputs": [
    {
     "name": "stdout",
     "output_type": "stream",
     "text": [
      "State\n",
      "CA    15693\n",
      "TX     9361\n",
      "FL     7068\n",
      "NY     6353\n",
      "IL     4174\n",
      "PA     3981\n",
      "LA     3700\n",
      "OH     3573\n",
      "NC     3565\n",
      "GA     3527\n",
      "MI     3498\n",
      "MA     3362\n",
      "AL     3214\n",
      "WA     3123\n",
      "VA     3015\n",
      "UT     2877\n",
      "NM     2867\n",
      "NJ     2865\n",
      "TN     2832\n",
      "AZ     2807\n",
      "MS     2785\n",
      "ID     2752\n",
      "WV     2751\n",
      "AR     2720\n",
      "MT     2699\n",
      "IN     2652\n",
      "OR     2563\n",
      "SC     2503\n",
      "HI     2426\n",
      "OK     2418\n",
      "DC     2300\n",
      "NV     2293\n",
      "WI     2264\n",
      "ND     2239\n",
      "WY     2172\n",
      "MN     2142\n",
      "NE     2096\n",
      "AK     2084\n",
      "MO     2081\n",
      "KS     2025\n",
      "MD     1958\n",
      "NH     1942\n",
      "IA     1905\n",
      "CO     1902\n",
      "SD     1796\n",
      "VT     1783\n",
      "KY     1724\n",
      "DE     1608\n",
      "CT     1516\n",
      "RI     1290\n",
      "ME     1115\n",
      "Name: count, dtype: int64\n"
     ]
    }
   ],
   "source": [
    "print((df['State'].value_counts()))"
   ]
  }
 ],
 "metadata": {
  "kernelspec": {
   "display_name": "base",
   "language": "python",
   "name": "python3"
  },
  "language_info": {
   "codemirror_mode": {
    "name": "ipython",
    "version": 3
   },
   "file_extension": ".py",
   "mimetype": "text/x-python",
   "name": "python",
   "nbconvert_exporter": "python",
   "pygments_lexer": "ipython3",
   "version": "3.8.20"
  }
 },
 "nbformat": 4,
 "nbformat_minor": 2
}
